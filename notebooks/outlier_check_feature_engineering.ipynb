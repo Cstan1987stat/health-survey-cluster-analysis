{
  "nbformat": 4,
  "nbformat_minor": 0,
  "metadata": {
    "colab": {
      "provenance": [],
      "authorship_tag": "ABX9TyMebz21we9mTuXskzaP4uu7",
      "include_colab_link": true
    },
    "kernelspec": {
      "name": "ir",
      "display_name": "R"
    },
    "language_info": {
      "name": "R"
    }
  },
  "cells": [
    {
      "cell_type": "markdown",
      "metadata": {
        "id": "view-in-github",
        "colab_type": "text"
      },
      "source": [
        "<a href=\"https://colab.research.google.com/github/Cstan1987stat/health-survey-cluster-analysis/blob/main/outlier_check_feature_engineering.ipynb\" target=\"_parent\"><img src=\"https://colab.research.google.com/assets/colab-badge.svg\" alt=\"Open In Colab\"/></a>"
      ]
    },
    {
      "cell_type": "code",
      "execution_count": 79,
      "metadata": {
        "colab": {
          "base_uri": "https://localhost:8080/"
        },
        "id": "t_21JGva8Kus",
        "outputId": "655f5c00-7e05-4498-b01c-9dc861dd2f85"
      },
      "outputs": [
        {
          "output_type": "stream",
          "name": "stdout",
          "text": [
            "There are 20361 rows and 14 columns in the data.\n",
            "---------------------------------------------------------------------------------------------------\n",
            "\n",
            "  Age Sex Cancer Coronary_heart_disease Depression Smoked_100_cig Education\n",
            "1  64   1      1                      1          2              1         8\n",
            "2  37   2      2                      2          2              2         8\n",
            "3  72   2      2                      2          2              2         5\n",
            "4  84   2      2                      2          2              2         6\n",
            "5  31   2      2                      2          2              1         8\n",
            "6  81   2      1                      2          2              2         4\n",
            "  Region Anxiety Height Weight Sleep_hours Aerobic.Strength Alcohol_drink_12m\n",
            "1      3       4     74    235           8                3               108\n",
            "2      3       3     69    218           9                3                 0\n",
            "3      3       5     64    240           8                1                12\n",
            "4      3       4     66    183           8                1                52\n",
            "5      3       3     69    156           8                4                52\n",
            "6      3       4     68    170           5                1                 0\n"
          ]
        }
      ],
      "source": [
        "# Loading in the adult22 csv file.\n",
        "df <- read.csv(\"https://raw.githubusercontent.com/Cstan1987stat/health-survey-cluster-analysis/refs/heads/main/data/adult22_filtered.csv\")\n",
        "\n",
        "# Extracting the number of rows from df\n",
        "rows <- dim(df)[1]\n",
        "# Extracting the number of columns from df\n",
        "columns <- dim(df)[2]\n",
        "# Outputing the number of rows and columns\n",
        "cat('There are', rows,'rows and', columns,'columns in the data.\\n')\n",
        "# Outputing horizontal line for separation purposes\n",
        "cat('---------------------------------------------------------------------------------------------------\\n')\n",
        "# Outputing blank line\n",
        "cat('\\n')\n",
        "# Printing the first 6 rows of the data\n",
        "print(head(df))"
      ]
    },
    {
      "cell_type": "code",
      "source": [
        "library(dplyr)\n",
        "install.packages('recipes')\n",
        "library(recipes)"
      ],
      "metadata": {
        "colab": {
          "base_uri": "https://localhost:8080/"
        },
        "id": "5Ay1OdXN8Tgi",
        "outputId": "4ae8aace-8b8e-422e-93a0-02c4b46c0638"
      },
      "execution_count": 80,
      "outputs": [
        {
          "output_type": "stream",
          "name": "stderr",
          "text": [
            "Installing package into ‘/usr/local/lib/R/site-library’\n",
            "(as ‘lib’ is unspecified)\n",
            "\n"
          ]
        }
      ]
    },
    {
      "cell_type": "code",
      "source": [
        "# Creating a vector for the numeric column names\n",
        "num_cols <- c(\"Age\", \"Height\", \"Weight\", \"Sleep_hours\", \"Alcohol_drink_12m\")\n",
        "\n",
        "# Creating a vector for the categorical column names\n",
        "cat_cols <- c('Sex', 'Cancer', 'Coronary_heart_disease', 'Depression', 'Smoked_100_cig',\n",
        "              'Education', 'Region', 'Anxiety','Aerobic.Strength')\n",
        "# Creating a copy of df\n",
        "df_copy <- df\n",
        "\n",
        "# Converting below columns in the df_copy dataframe to factors with original labels.\n",
        "df_copy$Sex <- factor(df_copy$Sex, labels=c('Male', 'Female'))\n",
        "df_copy$Cancer <- factor(df_copy$Cancer, labels=c('Yes','No'))\n",
        "df_copy$Coronary_heart_disease <- factor(df_copy$Coronary_heart_disease, labels = c('Yes', 'No'))\n",
        "df_copy$Depression <- factor(df_copy$Depression, labels = c('Yes','No'))\n",
        "df_copy$Smoked_100_cig <- factor(df_copy$Smoked_100_cig, labels = c('Yes', 'No'))\n",
        "df_copy$Education <- factor(df_copy$Education, labels = c('1-11', '12th', 'GED', 'High School', 'Some College', 'Assoc Tech', 'Assoc Acad', 'Bach', 'Mast', 'Prof'))\n",
        "df_copy$Region <- factor(df_copy$Region, labels = c('Northeast', 'Midwest', 'South', 'West'))\n",
        "df_copy$Anxiety <- factor(df_copy$Anxiety, labels = c('Daily', 'Weekly', 'Monthly', 'Few times Y', 'Never'))\n",
        "df_copy$`Aerobic.Strength` <- factor(df_copy$`Aerobic.Strength`, labels = c('Neither', 'Strength', 'Aerobic', 'Both'))"
      ],
      "metadata": {
        "id": "SvYAgcN_8bJR"
      },
      "execution_count": 81,
      "outputs": []
    },
    {
      "cell_type": "markdown",
      "source": [
        "## Outlier Check"
      ],
      "metadata": {
        "id": "kDnb61KS-seZ"
      }
    },
    {
      "cell_type": "code",
      "source": [
        "# Creating function for check for outliers\n",
        "outlier_check <- function(column, name){  # Column is the vector of values for the feature and name is the name of the feautre\n",
        "  # Below two lines calculate 75th and 25th percent quantile values\n",
        "  q1 <- quantile(column, .25)\n",
        "  q3 <- quantile(column, .75)\n",
        "  # Calculating the interquartile range\n",
        "  iqr <- q3 - q1\n",
        "  # Below two lines calculate lower and upper bound\n",
        "  upper_bound <- q3 + (1.5*iqr)\n",
        "  lower_bound <- q1 - (1.5*iqr)\n",
        "  # Below two lines of code calculate how many values there are for each feature that are above the upper_bound and are below the lower bound\n",
        "  num_upper <- sum(column > upper_bound)\n",
        "  num_lower <- sum(column < lower_bound)\n",
        "  # Summing num_upper and num_lower to get the total number of outliers\n",
        "  num_outliers <- num_upper + num_lower\n",
        "\n",
        "  # If loop to check if the feature has outliers\n",
        "  if (num_outliers > 0){\n",
        "\n",
        "    # Output how many outliers the feature has\n",
        "    cat('The',name,'feature has',num_outliers,'outliers\\n')\n",
        "\n",
        "    # If loop to check if the feature has no outliers below the lower bound\n",
        "    if (num_lower == 0){\n",
        "      # Output the upper_bound for feature with no outliers below the lower_bound\n",
        "      cat('The',name,'feature has an upper bound of', upper_bound,'\\n')\n",
        "    }\n",
        "\n",
        "    # If loop to check if the feature has outliers below the lower_bound\n",
        "    if (num_lower > 0){\n",
        "      # Output the lower bound and upper bound values for the feature\n",
        "      cat('The',name,'feature has an lower bound of', lower_bound,'and an upper bound of',upper_bound,'\\n')\n",
        "    }\n",
        "\n",
        "    # Move next output to a new line\n",
        "    cat('\\n')\n",
        "  }\n",
        "\n",
        "  # If loop to check if there are no outliers\n",
        "  if (num_outliers == 0){\n",
        "    # Output the feature has no outliers\n",
        "    cat('The',name,'feature has no outliers\\n')\n",
        "    # Move next output to a new line\n",
        "    cat('\\n')\n",
        "  }\n",
        "}\n",
        "\n",
        "# For loop to go through every column in the num_cols vector\n",
        "for (i in num_cols){\n",
        "  # Send the vector of values for the ith feature, along with the feature name, to the outlier_check function\n",
        "  outlier_check(df_copy[[i]], i)\n",
        "}\n"
      ],
      "metadata": {
        "colab": {
          "base_uri": "https://localhost:8080/"
        },
        "id": "himjvI8-sz8o",
        "outputId": "138c7a91-f888-4cb6-aa6d-ad27db31a2c0"
      },
      "execution_count": 82,
      "outputs": [
        {
          "output_type": "stream",
          "name": "stdout",
          "text": [
            "The Age feature has no outliers\n",
            "\n",
            "The Height feature has no outliers\n",
            "\n",
            "The Weight feature has 107 outliers\n",
            "The Weight feature has an upper bound of 285 \n",
            "\n",
            "The Sleep_hours feature has 216 outliers\n",
            "The Sleep_hours feature has an lower bound of 3 and an upper bound of 11 \n",
            "\n",
            "The Alcohol_drink_12m feature has 1779 outliers\n",
            "The Alcohol_drink_12m feature has an upper bound of 257 \n",
            "\n"
          ]
        }
      ]
    },
    {
      "cell_type": "markdown",
      "source": [
        "From the [univariate analysis notebook](https://github.com/Cstan1987stat/health-survey-cluster-analysis/blob/main/notebooks/univariate_analysis.ipynb), it did seem that there were outliers present in the Weight, Sleep_hours, and Alcohol_drink_12m features, so the above output isn't surprising. What we also observed is that all outliers for Weight and Alcohol_drink_12m were above the upper bound, while Sleep_hours had outliers on both sides—below the lower bound and above the upper bound (also confirmed by the output above). What we weren’t initially sure about was the threshold for determining an outlier.\n",
        "\n",
        "For the Weight feature, all adults weighing more than 285 pounds are considered outliers. However, I don’t believe this is due to reporting error, as that weight isn’t too shocking to imagine. Furthermore, these values represent only a small portion of the dataset (107 out of 20,000 instances), so I’ve decided to leave them in.\n",
        "\n",
        "For the Sleep_hours feature, anyone reporting fewer than 3 hours or more than 11 hours of sleep is considered an outlier. While sleeping less than 3 hours is definitely surprising, it’s plausible—there are individuals with sleep disorders or extreme circumstances. On the other hand, sleeping more than 11 hours isn't that unusual either, but if the values go beyond 20 hours and approach 24, they could very well be reporting errors or invalid entries.\n",
        "\n",
        "For the Alcohol_drink_12m feature, individuals who drank on more than 257 days in the past year are flagged as outliers. Similar to the Weight feature, this frequency isn't implausible—some people do drink that often. However, there are a relatively large number of outliers in this feature (1,779 out of ~20,000), which makes it more significant.\n",
        "\n",
        "That said, since clustering is a major focus of this project, I’ve decided to retain all outliers for now, but may revisit in the future."
      ],
      "metadata": {
        "id": "cbfYxHYn-jcT"
      }
    },
    {
      "cell_type": "markdown",
      "source": [
        "# Transformations"
      ],
      "metadata": {
        "id": "VXYhekOo-vmk"
      }
    },
    {
      "cell_type": "markdown",
      "source": [
        "## Nominal Features\n",
        "Some models are unable to interpret letters or words directly. To make these features usable, we must convert them into a numerical form. However, when assigning numbers to categories, we must first decide whether there is an inherent order between those categories.\n",
        "\n",
        "For example, our original data had values for the Region feature coded as 1 for northeast, 2 for midwest, 3 for south, and 4 for west. If we leave this feature as-is, models may interpret midwest as mathematically greater than northeast, which is not meaningful. Therefore, this could be described as a nominal variable. In such cases, a better approach is to use one-hot encoding, which creates binary columns for each category.\n",
        "\n",
        "For instance, we would create four new columns: northeast, midwest, south, and west. If an individual is from the northeast, a 1 would be placed in the northeast column and 0s in the others. To avoid multicollinearity, we would drop one of the columns and represent someone from that dropped category (e.g., northeast) with 0s in all remaining columns. This is how we handle nominal categorical variables—those with no inherent order. Just to be clear, one-hot encoding isn't required, but it may lead to better results depending on the model.\n",
        "\n",
        "## Ordinal Features\n",
        "\n",
        "Take the anxiety feature, which was originally coded as 1 for daily, 2 for weekly, 3 for monthly, 4 for a few times a year, and 5 for never.\n",
        "\n",
        "This feature clearly has an order: the frequency of anxiety decreases as the value increases, which could make this ordinal. However, a potential issue is that many models will assume equal spacing between levels. For example, the difference between daily (1) and weekly (2) may be interpreted the same as the difference between monthly (3) and a few times a year (4).\n",
        "\n",
        "But in reality, the drop from daily (possibly 365 occurrences per year) to weekly (around 52) is much larger than the drop from monthly (12) to a few times a year (maybe 3 or 4). If the distances between categories are not consistent, treating this feature as purely ordinal could mislead the model.\n",
        "\n",
        "In this case, we might choose to treat it like a nominal feature by applying one-hot encoding. Similar to nominal features, one-hot encoding isn't strictly necessary for ordinal data, but it could lead to better results, especially if we're unsure about the spacing between categories.\n",
        "\n",
        "## Numerical Features\n",
        "\n",
        "Another consideration involves our numerical features, which may be on different scales. For instance, sleep ranges from 1 to 24 hours, while days drinking alcohol could range from 0 to 365 per year. If we apply feature reduction techniques (like PCA) or distance-based models (like k-means clustering), the alcohol variable may dominate due to its larger scale.\n",
        "\n",
        "Just like with one-hot encoding, not standardizing numerical features isn't inherently wrong—but scaling them to the same range (e.g., using standardization or normalization) could improve model performance and lead to more balanced results."
      ],
      "metadata": {
        "id": "0O9ee77-r7kK"
      }
    },
    {
      "cell_type": "code",
      "source": [
        "# Initalize recipe with df_copy\n",
        "rec <- recipe(~ ., data = df_copy) %>%\n",
        "  step_normalize(all_of(num_cols)) %>%                 # Transforms numeric features to have mean of 0 and a standard deviation of 1\n",
        "  step_dummy(all_of(cat_cols), one_hot = FALSE)        # Creates binary column for each group in a categorical feature, while dropping the first category column\n",
        "\n",
        "# Prepping for transformation\n",
        "rec_prep <- prep(rec)\n",
        "# Transforming the data\n",
        "df_transformed_num_cat <- bake(rec_prep, new_data = NULL)\n",
        "\n",
        "\n",
        "# Initralize recipe with df_copy\n",
        "rec <- recipe(~ ., data = df_copy) %>%                 # Transforming numeric features to have mean of 0 and a standard deviation of 1\n",
        "  step_normalize(all_of(num_cols))\n",
        "\n",
        "# Prepping for transformation\n",
        "rec_prep <- prep(rec)\n",
        "# Transforming the data\n",
        "df_transformed_num <- bake(rec_prep, new_data = NULL)"
      ],
      "metadata": {
        "id": "b18_qO9z9jHe"
      },
      "execution_count": 83,
      "outputs": []
    },
    {
      "cell_type": "markdown",
      "source": [
        "# Exporting data"
      ],
      "metadata": {
        "id": "RI8MdQF2TxuK"
      }
    },
    {
      "cell_type": "code",
      "source": [
        "# Exporting data\n",
        "write.csv(df_transformed_num_cat, 'adult22_transformed_e.csv', row.names = FALSE)\n",
        "write.csv(df_transformed_num, 'adult22_transformed_n.csv', row.names = FALSE)"
      ],
      "metadata": {
        "id": "_HidGZYkBeLH"
      },
      "execution_count": 84,
      "outputs": []
    }
  ]
}
