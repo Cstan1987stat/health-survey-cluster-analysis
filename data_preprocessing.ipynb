{
  "nbformat": 4,
  "nbformat_minor": 0,
  "metadata": {
    "colab": {
      "provenance": [],
      "authorship_tag": "ABX9TyPFYfSRcnJRQVMsiKd9m372",
      "include_colab_link": true
    },
    "kernelspec": {
      "name": "ir",
      "display_name": "R"
    },
    "language_info": {
      "name": "R"
    }
  },
  "cells": [
    {
      "cell_type": "markdown",
      "metadata": {
        "id": "view-in-github",
        "colab_type": "text"
      },
      "source": [
        "<a href=\"https://colab.research.google.com/github/Cstan1987stat/health-survey-cluster-analysis/blob/main/data_preprocessing.ipynb\" target=\"_parent\"><img src=\"https://colab.research.google.com/assets/colab-badge.svg\" alt=\"Open In Colab\"/></a>"
      ]
    },
    {
      "cell_type": "code",
      "source": [
        "# Loading in the adult22 csv file.\n",
        "df <- read.csv(\"adult22.csv\")\n",
        "# Extracting the number of rows from df\n",
        "rows <- dim(df)[1]\n",
        "# Extracting the number of columnbs from df\n",
        "columns <- dim(df)[2]\n",
        "# Outputing the number of rows and columns\n",
        "cat('There are', rows,'rows and', columns,'columns in the data.')"
      ],
      "metadata": {
        "colab": {
          "base_uri": "https://localhost:8080/"
        },
        "id": "NUze3X1aj-QH",
        "outputId": "41e41f76-0f6b-406e-da53-c229b51abb0b"
      },
      "execution_count": 7,
      "outputs": [
        {
          "output_type": "stream",
          "name": "stdout",
          "text": [
            "There are 27651 rows and 637 columns in the data."
          ]
        }
      ]
    },
    {
      "cell_type": "markdown",
      "source": [
        "### Feature Selection\n",
        "\n",
        "The columns were selected based on the summary PDF available on the CDC NHIS 2022 survey documentation page (https://www.cdc.gov/nchs/nhis/documentation/2022-nhis.html)"
      ],
      "metadata": {
        "id": "FL_fC3erkkdf"
      }
    },
    {
      "cell_type": "code",
      "source": [
        "# Loading in the dplyr package\n",
        "library(dplyr)"
      ],
      "metadata": {
        "id": "Ak7DJa_TUMY7"
      },
      "execution_count": 18,
      "outputs": []
    },
    {
      "cell_type": "code",
      "execution_count": 13,
      "metadata": {
        "colab": {
          "base_uri": "https://localhost:8080/"
        },
        "id": "_USfk-JNfKVJ",
        "outputId": "9fa51d46-3e28-49d4-94ee-4e7dbd3bfb4c"
      },
      "outputs": [
        {
          "output_type": "stream",
          "name": "stdout",
          "text": [
            "There are 27651 rows and 14 columns in the data."
          ]
        }
      ],
      "source": [
        "# Selecting the desired columns from df, and assigning them to df_sub.\n",
        "df_sub <- df %>%\n",
        "  select(\n",
        "  AGEP_A,\n",
        "  SEX_A,\n",
        "  CANEV_A,\n",
        "  CHDEV_A,\n",
        "  DEPEV_A,\n",
        "  SMKEV_A,\n",
        "  EDUCP_A,\n",
        "  REGION,\n",
        "  ANXFREQ_A,\n",
        "  HEIGHTTC_A,\n",
        "  WEIGHTLBTC_A,\n",
        "  SLPHOURS_A,\n",
        "  PA18_05R_A,\n",
        "  DRK12MYR_A\n",
        "  )\n",
        "# Extracting the number of rows from df_sub\n",
        "rows <- dim(df_sub)[1]\n",
        "# Extracting the number of columns from df_sub\n",
        "columns <- dim(df_sub)[2]\n",
        "# Outputing the number of rows and columns\n",
        "cat('There are', rows,'rows and', columns,'columns in the data.')"
      ]
    },
    {
      "cell_type": "markdown",
      "source": [
        "\n",
        "\n",
        "---\n",
        "\n"
      ],
      "metadata": {
        "id": "cIo-XgfXmMdN"
      }
    },
    {
      "cell_type": "markdown",
      "source": [
        "**Feature Meaning**\n",
        "\n",
        "The following columns are derived from the official codebook for the 2022 NHIS Sample Adult Survey (https://www.cdc.gov/nchs/nhis/documentation/2022-nhis.html). Each column's description and value mapping are based on this source:\n",
        "\n",
        "\n",
        "* **AGEP_A** → Indicates the age of the sampled adult:\n",
        "  - 18-84 corresponds to 18-84 years.\n",
        "  \n",
        "* **SEX_A** → Indicates the sex of the sampled adult:\n",
        "  - 1: Male.\n",
        "  - 2: Female.\n",
        "\n",
        "* **CANEV_A** → Indicates whether the sampled adult has been told they had cancer:\n",
        "  - 1: Yes.\n",
        "  - 2: No.\n",
        "\n",
        "* **CHDEV_A** → Indicates whether the sampled adult has been told they have coronary heart disease:\n",
        "  - 1: Yes.\n",
        "  - 2: No.\n",
        "\n",
        "* **DEPEV_A** → Indicates whether the sampled adult has had depression:\n",
        "  - 1: Yes.\n",
        "  - 2: No.\n",
        "\n",
        "* **SMKEV_A** → Indicates whether the sampled adult has smoked 100 cigarettes:\n",
        "  - 1: Yes.\n",
        "  - 2: No.\n",
        "\n",
        "* **EDUCP_A** → Indicates the education level of the sampled adult:\n",
        "  - 1: Grade 1-11.\n",
        "  - 2: 12th grade (no diploma).\n",
        "  - 3: GED or equivalent.\n",
        "  - 4: High school graduate.\n",
        "  - 5: Some college (no degree).\n",
        "  - 6: Associate’s degree (occupational, technical, or vocational program).\n",
        "  - 7: Associate’s degree (academic program).\n",
        "  - 8: Bachelor’s degree.\n",
        "  - 9: Master’s degree.\n",
        "  - 10: Professional school or doctoral degree.\n",
        "\n",
        "* **REGION** → Indicates the region where the sampled adult lives:\n",
        "  - 1: Northeast.\n",
        "  - 2: Midwest.\n",
        "  - 3: South.\n",
        "  - 4: West.\n",
        "\n",
        "* **ANXFREQ_A** → How often the sampled adult feels worried, nervous, or anxious:\n",
        "  - 1: Daily.\n",
        "  - 2: Weekly.\n",
        "  - 3: Monthly.\n",
        "  - 4: A few times a year.\n",
        "  - 5: Never.\n",
        "\n",
        "* **HEIGHTTC_A** → Height of the sampled adult without shoes (in inches):\n",
        "  - 59-76.\n",
        "\n",
        "* **WEIGHTLBTC_A** → Weight of the sampled adult without shoes (in pounds):\n",
        "  - 100-299.\n",
        "\n",
        "* **SLPHOURS_A** → Hours of sleep the sampled adult gets in a 24-hour period:\n",
        "  - 1-24.\n",
        "\n",
        "* **PA18_05R_A** → Physical activity meeting aerobic/strength criteria:\n",
        "  - 1: Meets neither.\n",
        "  - 2: Meets strength only.\n",
        "  - 3: Meets aerobic only.\n",
        "  - 4: Meets both.\n",
        "\n",
        "* **DRK12MYR_A** → Days the sampled adult drank alcohol in the past year:\n",
        "  - 0-365."
      ],
      "metadata": {
        "id": "HUXoM3SikpdO"
      }
    },
    {
      "cell_type": "code",
      "source": [
        "# Based on the above feature values, the below code selects only the the specific values for each feature wanted.\n",
        "df_filtered <- df_sub %>%\n",
        "  filter(\n",
        "    AGEP_A >= 18 & AGEP_A <= 84,\n",
        "    SEX_A %in% c(1, 2),\n",
        "    CANEV_A %in% c(1, 2),\n",
        "    CHDEV_A %in% c(1, 2),\n",
        "    DEPEV_A %in% c(1, 2),\n",
        "    SMKEV_A %in% c(1, 2),\n",
        "    EDUCP_A %in% 1:10,\n",
        "    REGION %in% 1:4,\n",
        "    ANXFREQ_A %in% 1:5,\n",
        "    HEIGHTTC_A >= 59 & HEIGHTTC_A <= 76,\n",
        "    WEIGHTLBTC_A >= 100 & WEIGHTLBTC_A <= 299,\n",
        "    SLPHOURS_A >= 1 & SLPHOURS_A <= 24,\n",
        "    PA18_05R_A %in% 1:4,\n",
        "    DRK12MYR_A >= 0 & DRK12MYR_A <= 365\n",
        "  )\n",
        "# Extracting the number of rows from df_filtered\n",
        "rows <- dim(df_filtered)[1]\n",
        "# Extracting the number of columns from df_filterd\n",
        "columns <- dim(df_filtered)[2]\n",
        "# Outputing the number of rows and columns\n",
        "cat('There are', rows,'rows and', columns,'columns in the data.')\n",
        "\n",
        "# Exporting df_filtered as a csv file (adult22_filtered)\n",
        "# Setting row_names to false so there isn't an unnecessary column hopefully.\n",
        "write.csv(df_filtered, \"adult22_filtered.csv\", row.names = FALSE)"
      ],
      "metadata": {
        "colab": {
          "base_uri": "https://localhost:8080/"
        },
        "id": "haZxjllukJn7",
        "outputId": "b5c494e8-e824-4d81-e86d-9851b7e4c144"
      },
      "execution_count": 14,
      "outputs": [
        {
          "output_type": "stream",
          "name": "stdout",
          "text": [
            "There are 20361 rows and 14 columns in the data."
          ]
        }
      ]
    },
    {
      "cell_type": "code",
      "source": [
        "# Printing the first 6 rows.\n",
        "print(head(df_filtered))"
      ],
      "metadata": {
        "colab": {
          "base_uri": "https://localhost:8080/"
        },
        "id": "tHYi_nEWUXoV",
        "outputId": "3a21185d-c5cd-4442-fab9-afb9082e8a69"
      },
      "execution_count": 17,
      "outputs": [
        {
          "output_type": "stream",
          "name": "stdout",
          "text": [
            "  AGEP_A SEX_A CANEV_A CHDEV_A DEPEV_A SMKEV_A EDUCP_A REGION ANXFREQ_A\n",
            "1     64     1       1       1       2       1       8      3         4\n",
            "2     37     2       2       2       2       2       8      3         3\n",
            "3     72     2       2       2       2       2       5      3         5\n",
            "4     84     2       2       2       2       2       6      3         4\n",
            "5     31     2       2       2       2       1       8      3         3\n",
            "6     81     2       1       2       2       2       4      3         4\n",
            "  HEIGHTTC_A WEIGHTLBTC_A SLPHOURS_A PA18_05R_A DRK12MYR_A\n",
            "1         74          235          8          3        108\n",
            "2         69          218          9          3          0\n",
            "3         64          240          8          1         12\n",
            "4         66          183          8          1         52\n",
            "5         69          156          8          4         52\n",
            "6         68          170          5          1          0\n"
          ]
        }
      ]
    }
  ]
}