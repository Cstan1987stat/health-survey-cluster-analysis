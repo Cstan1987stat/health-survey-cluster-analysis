{
  "nbformat": 4,
  "nbformat_minor": 0,
  "metadata": {
    "colab": {
      "provenance": []
    },
    "kernelspec": {
      "name": "ir",
      "display_name": "R"
    },
    "language_info": {
      "name": "R"
    }
  },
  "cells": [
    {
      "cell_type": "code",
      "execution_count": 6,
      "metadata": {
        "colab": {
          "base_uri": "https://localhost:8080/",
          "height": 34
        },
        "id": "r8-b0PyZYSGH",
        "outputId": "6b739147-0dd4-45f0-b82a-3c1d89268642"
      },
      "outputs": [
        {
          "output_type": "display_data",
          "data": {
            "text/html": [
              "<style>\n",
              ".list-inline {list-style: none; margin:0; padding: 0}\n",
              ".list-inline>li {display: inline-block}\n",
              ".list-inline>li:not(:last-child)::after {content: \"\\00b7\"; padding: 0 .5ex}\n",
              "</style>\n",
              "<ol class=list-inline><li>20361</li><li>14</li></ol>\n"
            ],
            "text/markdown": "1. 20361\n2. 14\n\n\n",
            "text/latex": "\\begin{enumerate*}\n\\item 20361\n\\item 14\n\\end{enumerate*}\n",
            "text/plain": [
              "[1] 20361    14"
            ]
          },
          "metadata": {}
        }
      ],
      "source": [
        "# Loading in the adult22 csv file.\n",
        "df <- read.csv(\"https://raw.githubusercontent.com/Cstan1987stat/health-survey-cluster-analysis/refs/heads/main/adult22_filtered.csv\")\n",
        "\n",
        "# Viewing the dimensions of df\n",
        "dim(df)"
      ]
    },
    {
      "cell_type": "markdown",
      "source": [
        "Our data has 20361 rows and 14 columns."
      ],
      "metadata": {
        "id": "68tfgKOzYmH1"
      }
    },
    {
      "cell_type": "code",
      "source": [
        "# Renaming all the columns\n",
        "names(df)[1] <- 'Age'\n",
        "names(df)[2] <- 'Sex'\n",
        "names(df)[3] <- 'Cancer'\n",
        "names(df)[4] <- 'Coronary_heart_disease'\n",
        "names(df)[5] <- 'Depression'\n",
        "names(df)[6] <- 'Smoked_100_cig'\n",
        "names(df)[7] <- 'Education'\n",
        "names(df)[8] <- 'Region'\n",
        "names(df)[9] <- 'Anxiety'\n",
        "names(df)[10] <- 'Height'\n",
        "names(df)[11] <- 'Weight'\n",
        "names(df)[12] <- 'Sleep_hours'\n",
        "names(df)[13] <- 'Aerobic/Strength'\n",
        "names(df)[14] <- 'Alcohol_drink_12m'"
      ],
      "metadata": {
        "id": "0QnOmk2SZEhv"
      },
      "execution_count": 7,
      "outputs": []
    },
    {
      "cell_type": "code",
      "source": [
        "# Viewing the first six rows of df\n",
        "head(df)"
      ],
      "metadata": {
        "colab": {
          "base_uri": "https://localhost:8080/",
          "height": 286
        },
        "id": "MF8ZPY6IYb-W",
        "outputId": "b6aedce0-8f1f-49d2-9e32-6af82716109e"
      },
      "execution_count": 8,
      "outputs": [
        {
          "output_type": "display_data",
          "data": {
            "text/html": [
              "<table class=\"dataframe\">\n",
              "<caption>A data.frame: 6 × 14</caption>\n",
              "<thead>\n",
              "\t<tr><th></th><th scope=col>Age</th><th scope=col>Sex</th><th scope=col>Cancer</th><th scope=col>Coronary_heart_disease</th><th scope=col>Depression</th><th scope=col>Smoked_100_cig</th><th scope=col>Education</th><th scope=col>Region</th><th scope=col>Anxiety</th><th scope=col>Height</th><th scope=col>Weight</th><th scope=col>Sleep_hours</th><th scope=col>Aerobic/Strength</th><th scope=col>Alcohol_drink_12m</th></tr>\n",
              "\t<tr><th></th><th scope=col>&lt;int&gt;</th><th scope=col>&lt;int&gt;</th><th scope=col>&lt;int&gt;</th><th scope=col>&lt;int&gt;</th><th scope=col>&lt;int&gt;</th><th scope=col>&lt;int&gt;</th><th scope=col>&lt;int&gt;</th><th scope=col>&lt;int&gt;</th><th scope=col>&lt;int&gt;</th><th scope=col>&lt;int&gt;</th><th scope=col>&lt;int&gt;</th><th scope=col>&lt;int&gt;</th><th scope=col>&lt;int&gt;</th><th scope=col>&lt;int&gt;</th></tr>\n",
              "</thead>\n",
              "<tbody>\n",
              "\t<tr><th scope=row>1</th><td>64</td><td>1</td><td>1</td><td>1</td><td>2</td><td>1</td><td>8</td><td>3</td><td>4</td><td>74</td><td>235</td><td>8</td><td>3</td><td>108</td></tr>\n",
              "\t<tr><th scope=row>2</th><td>37</td><td>2</td><td>2</td><td>2</td><td>2</td><td>2</td><td>8</td><td>3</td><td>3</td><td>69</td><td>218</td><td>9</td><td>3</td><td>  0</td></tr>\n",
              "\t<tr><th scope=row>3</th><td>72</td><td>2</td><td>2</td><td>2</td><td>2</td><td>2</td><td>5</td><td>3</td><td>5</td><td>64</td><td>240</td><td>8</td><td>1</td><td> 12</td></tr>\n",
              "\t<tr><th scope=row>4</th><td>84</td><td>2</td><td>2</td><td>2</td><td>2</td><td>2</td><td>6</td><td>3</td><td>4</td><td>66</td><td>183</td><td>8</td><td>1</td><td> 52</td></tr>\n",
              "\t<tr><th scope=row>5</th><td>31</td><td>2</td><td>2</td><td>2</td><td>2</td><td>1</td><td>8</td><td>3</td><td>3</td><td>69</td><td>156</td><td>8</td><td>4</td><td> 52</td></tr>\n",
              "\t<tr><th scope=row>6</th><td>81</td><td>2</td><td>1</td><td>2</td><td>2</td><td>2</td><td>4</td><td>3</td><td>4</td><td>68</td><td>170</td><td>5</td><td>1</td><td>  0</td></tr>\n",
              "</tbody>\n",
              "</table>\n"
            ],
            "text/markdown": "\nA data.frame: 6 × 14\n\n| <!--/--> | Age &lt;int&gt; | Sex &lt;int&gt; | Cancer &lt;int&gt; | Coronary_heart_disease &lt;int&gt; | Depression &lt;int&gt; | Smoked_100_cig &lt;int&gt; | Education &lt;int&gt; | Region &lt;int&gt; | Anxiety &lt;int&gt; | Height &lt;int&gt; | Weight &lt;int&gt; | Sleep_hours &lt;int&gt; | Aerobic/Strength &lt;int&gt; | Alcohol_drink_12m &lt;int&gt; |\n|---|---|---|---|---|---|---|---|---|---|---|---|---|---|---|\n| 1 | 64 | 1 | 1 | 1 | 2 | 1 | 8 | 3 | 4 | 74 | 235 | 8 | 3 | 108 |\n| 2 | 37 | 2 | 2 | 2 | 2 | 2 | 8 | 3 | 3 | 69 | 218 | 9 | 3 |   0 |\n| 3 | 72 | 2 | 2 | 2 | 2 | 2 | 5 | 3 | 5 | 64 | 240 | 8 | 1 |  12 |\n| 4 | 84 | 2 | 2 | 2 | 2 | 2 | 6 | 3 | 4 | 66 | 183 | 8 | 1 |  52 |\n| 5 | 31 | 2 | 2 | 2 | 2 | 1 | 8 | 3 | 3 | 69 | 156 | 8 | 4 |  52 |\n| 6 | 81 | 2 | 1 | 2 | 2 | 2 | 4 | 3 | 4 | 68 | 170 | 5 | 1 |   0 |\n\n",
            "text/latex": "A data.frame: 6 × 14\n\\begin{tabular}{r|llllllllllllll}\n  & Age & Sex & Cancer & Coronary\\_heart\\_disease & Depression & Smoked\\_100\\_cig & Education & Region & Anxiety & Height & Weight & Sleep\\_hours & Aerobic/Strength & Alcohol\\_drink\\_12m\\\\\n  & <int> & <int> & <int> & <int> & <int> & <int> & <int> & <int> & <int> & <int> & <int> & <int> & <int> & <int>\\\\\n\\hline\n\t1 & 64 & 1 & 1 & 1 & 2 & 1 & 8 & 3 & 4 & 74 & 235 & 8 & 3 & 108\\\\\n\t2 & 37 & 2 & 2 & 2 & 2 & 2 & 8 & 3 & 3 & 69 & 218 & 9 & 3 &   0\\\\\n\t3 & 72 & 2 & 2 & 2 & 2 & 2 & 5 & 3 & 5 & 64 & 240 & 8 & 1 &  12\\\\\n\t4 & 84 & 2 & 2 & 2 & 2 & 2 & 6 & 3 & 4 & 66 & 183 & 8 & 1 &  52\\\\\n\t5 & 31 & 2 & 2 & 2 & 2 & 1 & 8 & 3 & 3 & 69 & 156 & 8 & 4 &  52\\\\\n\t6 & 81 & 2 & 1 & 2 & 2 & 2 & 4 & 3 & 4 & 68 & 170 & 5 & 1 &   0\\\\\n\\end{tabular}\n",
            "text/plain": [
              "  Age Sex Cancer Coronary_heart_disease Depression Smoked_100_cig Education\n",
              "1 64  1   1      1                      2          1              8        \n",
              "2 37  2   2      2                      2          2              8        \n",
              "3 72  2   2      2                      2          2              5        \n",
              "4 84  2   2      2                      2          2              6        \n",
              "5 31  2   2      2                      2          1              8        \n",
              "6 81  2   1      2                      2          2              4        \n",
              "  Region Anxiety Height Weight Sleep_hours Aerobic/Strength Alcohol_drink_12m\n",
              "1 3      4       74     235    8           3                108              \n",
              "2 3      3       69     218    9           3                  0              \n",
              "3 3      5       64     240    8           1                 12              \n",
              "4 3      4       66     183    8           1                 52              \n",
              "5 3      3       69     156    8           4                 52              \n",
              "6 3      4       68     170    5           1                  0              "
            ]
          },
          "metadata": {}
        }
      ]
    },
    {
      "cell_type": "markdown",
      "source": [
        "Although all columns are numerical types, not all are truly numerical in nature. Some represent continuous numerical values, while others encode categorical information.\n",
        "\n",
        "* Truly numerical variables (where higher values have meaningful mathematical differences):\n",
        "\n",
        " - Age, Height, Weight, Sleep_hours, Alcohol_drink_12m\n",
        "\n",
        "Categorical variables (which can be further divided into nominal and ordinal):\n",
        "\n",
        "* Nominal (no inherent ordering):\n",
        "\n",
        " - Sex, Cancer, Coronary_heart_disease, Depression, Smoked_100_cig, Region, Aerobic/Strength\n",
        " - Note: While Aerobic/Strength might appear ordered, a model would interpret meeting aerobic guidelines as \"greater\" than meeting strength guidelines, making it nominal.\n",
        "\n",
        "* Ordinal (inherent order exists):\n",
        " - Education (ranges from \"some high school\" to \"graduate school\")\n",
        " - Anxiety (ranges from \"daily\" to \"never\")"
      ],
      "metadata": {
        "id": "8XEoD6VyY3CB"
      }
    },
    {
      "cell_type": "code",
      "source": [
        "sum(is.na(df))"
      ],
      "metadata": {
        "colab": {
          "base_uri": "https://localhost:8080/",
          "height": 34
        },
        "id": "-hNBxss4YycD",
        "outputId": "7a7d6f2c-2a2a-40be-de20-f00c89ad67de"
      },
      "execution_count": 9,
      "outputs": [
        {
          "output_type": "display_data",
          "data": {
            "text/html": [
              "0"
            ],
            "text/markdown": "0",
            "text/latex": "0",
            "text/plain": [
              "[1] 0"
            ]
          },
          "metadata": {}
        }
      ]
    },
    {
      "cell_type": "markdown",
      "source": [
        "No missing values"
      ],
      "metadata": {
        "id": "zF8cNKMvZXV1"
      }
    },
    {
      "cell_type": "code",
      "source": [],
      "metadata": {
        "id": "JU3XaYQaZbGr"
      },
      "execution_count": 10,
      "outputs": []
    }
  ]
}