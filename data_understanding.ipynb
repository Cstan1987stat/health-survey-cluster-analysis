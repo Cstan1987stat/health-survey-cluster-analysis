{
  "nbformat": 4,
  "nbformat_minor": 0,
  "metadata": {
    "colab": {
      "provenance": [],
      "authorship_tag": "ABX9TyPOoHq4h4+JHfgpwpfS5Yh0",
      "include_colab_link": true
    },
    "kernelspec": {
      "name": "ir",
      "display_name": "R"
    },
    "language_info": {
      "name": "R"
    }
  },
  "cells": [
    {
      "cell_type": "markdown",
      "metadata": {
        "id": "view-in-github",
        "colab_type": "text"
      },
      "source": [
        "<a href=\"https://colab.research.google.com/github/Cstan1987stat/health-survey-cluster-analysis/blob/main/data_understanding.ipynb\" target=\"_parent\"><img src=\"https://colab.research.google.com/assets/colab-badge.svg\" alt=\"Open In Colab\"/></a>"
      ]
    },
    {
      "cell_type": "code",
      "execution_count": 16,
      "metadata": {
        "colab": {
          "base_uri": "https://localhost:8080/"
        },
        "id": "r8-b0PyZYSGH",
        "outputId": "b297de44-e232-48aa-99c9-2e3952a7c0a4"
      },
      "outputs": [
        {
          "output_type": "stream",
          "name": "stdout",
          "text": [
            "There are 20361 rows and 14 columns in the data."
          ]
        }
      ],
      "source": [
        "# Loading in the adult22 csv file.\n",
        "df <- read.csv(\"https://raw.githubusercontent.com/Cstan1987stat/health-survey-cluster-analysis/refs/heads/main/adult22_filtered.csv\")\n",
        "\n",
        "# Extracting the number of rows from df\n",
        "rows <- dim(df)[1]\n",
        "# Extracting the number of columnbs from df\n",
        "columns <- dim(df)[2]\n",
        "# Outputing the number of rows and columns\n",
        "cat('There are', rows,'rows and', columns,'columns in the data.')"
      ]
    },
    {
      "cell_type": "markdown",
      "source": [
        "Although all columns are numerical types, not all are truly numerical in nature. Some represent continuous numerical values, while others encode categorical information.\n",
        "\n",
        "* Truly numerical variables (where higher values have meaningful mathematical differences):\n",
        "\n",
        " - Age, Height, Weight, Sleep_hours, Alcohol_drink_12m\n",
        "\n",
        "Categorical variables (which can be further divided into nominal and ordinal):\n",
        "\n",
        "* Nominal (no inherent ordering):\n",
        "\n",
        "   - Sex, Cancer, Coronary_heart_disease, Depression, Smoked_100_cig, Region, Aerobic/Strength\n",
        "   - Note: While Aerobic/Strength might appear ordered, a model would interpret meeting aerobic guidelines as \"greater\" than meeting strength guidelines, making it nominal.\n",
        "\n",
        "* Ordinal (inherent order exists):\n",
        "   - Education (ranges from \"1st-11th grade\" to \"professional school (PhD)\")\n",
        "   - Anxiety (ranges from \"daily\" to \"never\")"
      ],
      "metadata": {
        "id": "8XEoD6VyY3CB"
      }
    },
    {
      "cell_type": "code",
      "source": [
        "# Calculating how many missing values there are.\n",
        "sum(is.na(df))"
      ],
      "metadata": {
        "colab": {
          "base_uri": "https://localhost:8080/",
          "height": 34
        },
        "id": "-hNBxss4YycD",
        "outputId": "990bf887-b27a-47b4-9cfb-c9ea607c30bb"
      },
      "execution_count": 17,
      "outputs": [
        {
          "output_type": "display_data",
          "data": {
            "text/html": [
              "0"
            ],
            "text/markdown": "0",
            "text/latex": "0",
            "text/plain": [
              "[1] 0"
            ]
          },
          "metadata": {}
        }
      ]
    },
    {
      "cell_type": "markdown",
      "source": [
        "No missing values"
      ],
      "metadata": {
        "id": "zF8cNKMvZXV1"
      }
    },
    {
      "cell_type": "code",
      "source": [
        "# Printing the first 6 rows of df\n",
        "print(head(df))"
      ],
      "metadata": {
        "id": "JU3XaYQaZbGr",
        "colab": {
          "base_uri": "https://localhost:8080/"
        },
        "outputId": "3f02c24e-323c-4ceb-d735-d800efae3dbc"
      },
      "execution_count": 18,
      "outputs": [
        {
          "output_type": "stream",
          "name": "stdout",
          "text": [
            "  Age Sex Cancer Coronary_heart_disease Depression Smoked_100_cig Education\n",
            "1  64   1      1                      1          2              1         8\n",
            "2  37   2      2                      2          2              2         8\n",
            "3  72   2      2                      2          2              2         5\n",
            "4  84   2      2                      2          2              2         6\n",
            "5  31   2      2                      2          2              1         8\n",
            "6  81   2      1                      2          2              2         4\n",
            "  Region Anxiety Height Weight Sleep_hours Aerobic.Strength Alcohol_drink_12m\n",
            "1      3       4     74    235           8                3               108\n",
            "2      3       3     69    218           9                3                 0\n",
            "3      3       5     64    240           8                1                12\n",
            "4      3       4     66    183           8                1                52\n",
            "5      3       3     69    156           8                4                52\n",
            "6      3       4     68    170           5                1                 0\n"
          ]
        }
      ]
    }
  ]
}