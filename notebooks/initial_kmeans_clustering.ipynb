{
  "cells": [
    {
      "cell_type": "markdown",
      "metadata": {
        "id": "view-in-github",
        "colab_type": "text"
      },
      "source": [
        "<a href=\"https://colab.research.google.com/github/Cstan1987stat/health-survey-cluster-analysis/blob/main/initial_kmeans_clustering.ipynb\" target=\"_parent\"><img src=\"https://colab.research.google.com/assets/colab-badge.svg\" alt=\"Open In Colab\"/></a>"
      ]
    },
    {
      "cell_type": "code",
      "execution_count": 78,
      "metadata": {
        "colab": {
          "base_uri": "https://localhost:8080/"
        },
        "id": "UjkHcdA_GLAC",
        "outputId": "1f3532ea-a864-4401-f53e-c2d9a585908c"
      },
      "outputs": [
        {
          "output_type": "stream",
          "name": "stderr",
          "text": [
            "Installing package into ‘/usr/local/lib/R/site-library’\n",
            "(as ‘lib’ is unspecified)\n",
            "\n"
          ]
        }
      ],
      "source": [
        "# Loading in needed packages.\n",
        "library(dplyr)\n",
        "library(ggplot2)\n",
        "install.packages('cluster')\n",
        "library(cluster)"
      ]
    },
    {
      "cell_type": "markdown",
      "source": [
        "### Preparing data"
      ],
      "metadata": {
        "id": "tcpOTN5vZnEp"
      }
    },
    {
      "cell_type": "code",
      "execution_count": 56,
      "metadata": {
        "colab": {
          "base_uri": "https://localhost:8080/"
        },
        "id": "UPFrW6bqCbdD",
        "outputId": "45479763-f127-48ae-d87e-3549996f6887"
      },
      "outputs": [
        {
          "output_type": "stream",
          "name": "stdout",
          "text": [
            "There are 20361 rows and 29 columns in the data.\n",
            "---------------------------------------------------------------------------------------------------\n",
            "\n",
            "         Dim.1     Dim.2      Dim.3       Dim.4      Dim.5      Dim.6\n",
            "1  3.118176073  2.339836  1.2605234  2.04569877  0.1779147  1.2731627\n",
            "2  0.006359897 -1.533622  0.2053232 -0.75406139  0.3295647  0.1308037\n",
            "3 -0.117218248  1.131204  0.3854460 -1.89763012  0.6574644  1.0566326\n",
            "4 -0.571682619  1.356402  1.1007619 -1.02514526 -1.2487912  0.7726585\n",
            "5 -0.387939073 -1.783642 -0.0252481  0.06053259  0.5990237 -0.4145220\n",
            "6 -0.523127103  2.010015  1.1426708 -0.55226677 -1.2929257  0.6373583\n",
            "        Dim.7       Dim.8       Dim.9       Dim.10     Dim.11     Dim.12\n",
            "1  0.33233124 -0.47825149  0.37645884 -0.463259456  0.5645641 -0.8057671\n",
            "2  0.03991729  0.92134152  0.95314352 -0.427797142  0.7301584  0.5602038\n",
            "3  0.76083875 -0.26194550 -0.01750296 -0.002773631 -0.5576675  1.5535936\n",
            "4  0.91556935 -0.24778243 -1.09506793 -2.213519377  2.4414608 -1.5142323\n",
            "5 -0.70922263 -0.01485775  2.01719594 -0.820169484  0.6739008  0.3496483\n",
            "6 -0.05741653 -1.19364824 -0.79499410  0.126605823  0.2555019 -0.0948097\n",
            "       Dim.13      Dim.14     Dim.15      Dim.16      Dim.17     Dim.18\n",
            "1  1.04507649 -0.57767388 -0.6770090  0.05155625  0.07938785 -1.2040484\n",
            "2 -0.04637353  0.74681194 -0.5869129  0.61595375  1.58827893 -1.6771486\n",
            "3 -0.41403532 -0.40324751  0.4661008 -0.38398025 -0.58731997 -1.2618459\n",
            "4 -0.73585084 -0.67682276  1.3380827  0.85711822  0.42233455 -1.3027262\n",
            "5 -0.63941217  0.08810207 -1.4727223  0.18960165  0.43701836 -1.6692936\n",
            "6 -0.01979089 -1.41354730 -0.6562277 -0.71782680 -0.07647276 -0.6932317\n",
            "      Dim.19       Dim.20     Dim.21     Dim.22     Dim.23      Dim.24\n",
            "1 -2.6787314  0.004453176  0.3834211  0.2699146 -1.9839546 -0.50950003\n",
            "2 -2.4282430  0.132404800  0.4200711  1.1878096 -0.1386590 -0.07402592\n",
            "3  0.1202936 -0.685900280  0.8502837  0.4194029  0.8265575  1.25795791\n",
            "4  1.3944758  0.147514957 -0.1675995  1.8729573  0.1473550  0.92572474\n",
            "5 -0.2037814  0.095426626 -0.2723415  0.7174442 -0.6135351 -1.39114762\n",
            "6 -1.2740723  0.203544989 -1.7416849 -0.7644495  1.4161819 -0.46430269\n",
            "       Dim.25      Dim.26      Dim.27      Dim.28      Dim.29\n",
            "1  0.58852218 -1.09149404  0.52493408 -1.30814642  0.39638993\n",
            "2 -0.35055381 -0.09430072  1.03520235 -0.08096743  0.66622903\n",
            "3 -0.61572186  0.88065632  1.10055087  0.26960263 -0.03232894\n",
            "4 -0.06019917  0.52329000 -0.04372493  1.20205238  0.49697800\n",
            "5 -0.86061457 -0.54313345  0.49425144 -0.32045478  0.84733969\n",
            "6  0.99439843  0.08464410 -0.49523486  0.57876853  0.99175622\n"
          ]
        }
      ],
      "source": [
        "# Loading in the famd coordiantes csv file.\n",
        "df <- read.csv(\"https://raw.githubusercontent.com/Cstan1987stat/health-survey-cluster-analysis/refs/heads/main/famd_coord.csv\")\n",
        "\n",
        "# Extracting the number of rows from df\n",
        "rows <- dim(df)[1]\n",
        "# Extracting the number of columns from df\n",
        "columns <- dim(df)[2]\n",
        "# Outputing the number of rows and columns\n",
        "cat('There are', rows,'rows and', columns,'columns in the data.\\n')\n",
        "# Outputing horizontal line for separation purposes\n",
        "cat('---------------------------------------------------------------------------------------------------\\n')\n",
        "# Outputing blank line\n",
        "cat('\\n')\n",
        "# Printing the first 6 rows of the data\n",
        "print(head(df))"
      ]
    },
    {
      "cell_type": "code",
      "execution_count": 57,
      "metadata": {
        "id": "_OpkSNdB440R"
      },
      "outputs": [],
      "source": [
        "# Set seed for reproducibility\n",
        "set.seed(123)\n",
        "# Grabbing random sample of 5000 rows while selecting the first 20 columns.\n",
        "df_sample <- df[sample(nrow(df), 5000),seq(1,20,1)]"
      ]
    },
    {
      "cell_type": "markdown",
      "source": [
        "Revisiting the [FAMD Notebook](https://github.com/Cstan1987stat/health-survey-cluster-analysis/blob/main/notebooks/famd_notebook.ipynb), the first 20 components explained 80% of the variance from the inital data."
      ],
      "metadata": {
        "id": "zPrlsRFHZZ3d"
      }
    },
    {
      "cell_type": "markdown",
      "source": [
        "### Running Kmeans"
      ],
      "metadata": {
        "id": "m-tx4t0yZius"
      }
    },
    {
      "cell_type": "markdown",
      "source": [
        "**Silhouette Score** – This is the scoring metric we will use. It assigns a value between -1 and 1 to each observation (or row) in our dataset, where a value closer to 1 indicates a well-clustered point and a value closer to -1 indicates a poorly clustered point. The average score across all observations serves as the overall clustering quality metric."
      ],
      "metadata": {
        "id": "W5oDWBxOZYQ2"
      }
    },
    {
      "cell_type": "code",
      "execution_count": 74,
      "metadata": {
        "colab": {
          "base_uri": "https://localhost:8080/"
        },
        "id": "jBABgy7G4QF_",
        "outputId": "c7ec3e3b-b549-437b-dca7-dbe4c10ba33e"
      },
      "outputs": [
        {
          "output_type": "stream",
          "name": "stdout",
          "text": [
            "Found 2 clusters.\n",
            "Found 3 clusters.\n",
            "Found 4 clusters.\n",
            "Found 5 clusters.\n",
            "Found 6 clusters.\n",
            "Found 7 clusters.\n",
            "Found 8 clusters.\n",
            "Found 9 clusters.\n",
            "Found 10 clusters.\n"
          ]
        }
      ],
      "source": [
        "# Create an empty data frame to store clustering results\n",
        "scoring <- data.frame(clusters = numeric(), silhouette = numeric())\n",
        "\n",
        "# Loop over cluster counts from 2 to 10\n",
        "for (c in seq(2, 10, 1)) {\n",
        "  # Set seed for reproducibility\n",
        "  set.seed(123)\n",
        "  # Run k-means with:\n",
        "  # - c clusters\n",
        "  # - up to 1000 iterations per run\n",
        "  # - 25 random starts to find the best solution\n",
        "  km <- kmeans(df_sample, centers = c, iter.max = 1000, nstart=25)\n",
        "  # Extract cluster assignments\n",
        "  clust <- km$cluster\n",
        "  # Compute silhouette scores\n",
        "  ss <- silhouette(clust, dist(df_sample))\n",
        "  # Calculate average silhouette width\n",
        "  ss_score <- round(mean(ss[, 3]), 4)\n",
        "  # Add results to the scoring data frame\n",
        "  new_row <- data.frame(clusters = c, silhouette = ss_score)\n",
        "  scoring <- rbind(scoring, new_row)\n",
        "  # Print progress\n",
        "  cat('Found', c, 'clusters.\\n')\n",
        "  flush.console()\n",
        "}"
      ]
    },
    {
      "cell_type": "code",
      "execution_count": 75,
      "metadata": {
        "colab": {
          "base_uri": "https://localhost:8080/",
          "height": 437
        },
        "id": "zC1kU4r75wi-",
        "outputId": "ee2d4263-6d9c-41dd-da92-a0b34f1d2eff"
      },
      "outputs": [
        {
          "output_type": "display_data",
          "data": {
            "text/plain": [
              "plot without title"
            ],
            "image/png": "[encoded data removed]"
          },
          "metadata": {
            "image/png": {
              "width": 780,
              "height": 420
            }
          }
        }
      ],
      "source": [
        "# Resizing plot output\n",
        "options(repr.plot.width = 13, repr.plot.height = 7)\n",
        "# Creating line plot with number of clusters on x-axis and silhouette score on y-axis\n",
        "ggplot(data=scoring, aes(x = clusters, y = silhouette)) +\n",
        "  geom_line() +\n",
        "  geom_point(size=6) +\n",
        "  # Customing the scale of the x-axis\n",
        "  scale_x_continuous(breaks = seq(2,10,2)) +\n",
        "  # Customing x-axis and y-axis labels, along with title\n",
        "  labs(x='Clusters', y='Mean Silhouette Score', title='Mean Silouette Score vs Clusters') +\n",
        "  # Adjusting text size, text alignment, and panel background color\n",
        "  theme(axis.text.x = element_text(size=15.2),\n",
        "        axis.text.y = element_text(size=15),\n",
        "        axis.title.x = element_text(size=17),\n",
        "        axis.title.y = element_text(size=17),\n",
        "        plot.title = element_text(size=25, hjust = 0.5),\n",
        "        panel.background = element_rect(fill = \"gray80\"),\n",
        "        plot.subtitle = element_text(size=12))"
      ]
    },
    {
      "cell_type": "markdown",
      "source": [
        "The highest mean silhouette score occurs with 10 clusters, followed by 9 clusters, and then 5 clusters.\n",
        "Since this is the first time I'll doing this sort of machine learning, I'll instead focus on 5 clusters. Furthermore, it'll less overwhelming for the non-technical part of my network when I post my findings on LinkedIn."
      ],
      "metadata": {
        "id": "_Sw7cvLfZsmW"
      }
    },
    {
      "cell_type": "markdown",
      "source": [
        "### Grabbing original data"
      ],
      "metadata": {
        "id": "BwdSgyHFag3D"
      }
    },
    {
      "cell_type": "code",
      "execution_count": 60,
      "metadata": {
        "colab": {
          "base_uri": "https://localhost:8080/"
        },
        "id": "tqdBc-tZ8UiZ",
        "outputId": "a95c2c31-813e-40da-e51a-dceaa7955233"
      },
      "outputs": [
        {
          "output_type": "stream",
          "name": "stdout",
          "text": [
            "  Age    Sex Cancer Coronary_heart_disease Depression Smoked_100_cig\n",
            "1  64   Male    Yes                    Yes         No            Yes\n",
            "2  37 Female     No                     No         No             No\n",
            "3  72 Female     No                     No         No             No\n",
            "4  84 Female     No                     No         No             No\n",
            "5  31 Female     No                     No         No            Yes\n",
            "6  81 Female    Yes                     No         No             No\n",
            "     Education Region     Anxiety Height Weight Sleep_hours Aerobic.Strength\n",
            "1         Bach  South Few times Y     74    235           8          Aerobic\n",
            "2         Bach  South     Monthly     69    218           9          Aerobic\n",
            "3 Some College  South       Never     64    240           8          Neither\n",
            "4   Assoc Tech  South Few times Y     66    183           8          Neither\n",
            "5         Bach  South     Monthly     69    156           8             Both\n",
            "6  High School  South Few times Y     68    170           5          Neither\n",
            "  Alcohol_drink_12m\n",
            "1               108\n",
            "2                 0\n",
            "3                12\n",
            "4                52\n",
            "5                52\n",
            "6                 0\n"
          ]
        }
      ],
      "source": [
        "# Grabbing original data\n",
        "orig_data = read.csv('https://raw.githubusercontent.com/Cstan1987stat/health-survey-cluster-analysis/refs/heads/main/adult22_filtered.csv')\n",
        "# Creating initial_df based off orig_data\n",
        "initial_df = orig_data\n",
        "# Converting below columns in the initial_df dataframe to factors with original labels.\n",
        "initial_df$Sex <- factor(initial_df$Sex, labels=c('Male', 'Female'))\n",
        "initial_df$Cancer <- factor(initial_df$Cancer, labels=c('Yes','No'))\n",
        "initial_df$Coronary_heart_disease <- factor(initial_df$Coronary_heart_disease, labels = c('Yes', 'No'))\n",
        "initial_df$Depression <- factor(initial_df$Depression, labels = c('Yes','No'))\n",
        "initial_df$Smoked_100_cig <- factor(initial_df$Smoked_100_cig, labels = c('Yes', 'No'))\n",
        "initial_df$Education <- factor(initial_df$Education, labels = c('1-11', '12th', 'GED', 'High School', 'Some College', 'Assoc Tech', 'Assoc Acad', 'Bach', 'Mast', 'Prof'))\n",
        "initial_df$Region <- factor(initial_df$Region, labels = c('Northeast', 'Midwest', 'South', 'West'))\n",
        "initial_df$Anxiety <- factor(initial_df$Anxiety, labels = c('Daily', 'Weekly', 'Monthly', 'Few times Y', 'Never'))\n",
        "initial_df$`Aerobic.Strength` <- factor(initial_df$`Aerobic.Strength`, labels = c('Neither', 'Strength', 'Aerobic', 'Both'))\n",
        "# Confirming output is correct\n",
        "print(head(initial_df))"
      ]
    },
    {
      "cell_type": "markdown",
      "source": [
        "### Running Kmeans on the first 20 columns of the whole data"
      ],
      "metadata": {
        "id": "McVYPv9ValDA"
      }
    },
    {
      "cell_type": "code",
      "source": [
        "# Set seed for reproducibility\n",
        "set.seed(123)\n",
        "# Running kmeans on df with 10 clusters, iter.max set to 1000, and nstart to 25\n",
        "km <- kmeans(df[,seq(1,20,1)], centers=5, iter.max=1000, nstart=25)\n",
        "# Adding clusters to initial_df column.\n",
        "initial_df$clusters <- as.factor(km$cluster)"
      ],
      "metadata": {
        "colab": {
          "base_uri": "https://localhost:8080/"
        },
        "id": "TXQTTmwfakee",
        "outputId": "04569b09-0dcb-45df-8db6-8109a2c36fee"
      },
      "execution_count": 76,
      "outputs": [
        {
          "output_type": "stream",
          "name": "stderr",
          "text": [
            "Warning message:\n",
            "“Quick-TRANSfer stage steps exceeded maximum (= 1018050)”\n",
            "Warning message:\n",
            "“Quick-TRANSfer stage steps exceeded maximum (= 1018050)”\n",
            "Warning message:\n",
            "“Quick-TRANSfer stage steps exceeded maximum (= 1018050)”\n",
            "Warning message:\n",
            "“Quick-TRANSfer stage steps exceeded maximum (= 1018050)”\n"
          ]
        }
      ]
    },
    {
      "cell_type": "code",
      "source": [
        "# Exporting data\n",
        "write.csv(initial_df, 'data_w_5_clusters.csv', row.names = FALSE)"
      ],
      "metadata": {
        "id": "ZgjbHgg2xVmE"
      },
      "execution_count": 77,
      "outputs": []
    }
  ],
  "metadata": {
    "colab": {
      "provenance": [],
      "authorship_tag": "ABX9TyMM7z8anx+NoZy7wQPRMgvQ",
      "include_colab_link": true
    },
    "kernelspec": {
      "display_name": "R",
      "name": "ir"
    },
    "language_info": {
      "name": "R"
    }
  },
  "nbformat": 4,
  "nbformat_minor": 0
}
