{
  "nbformat": 4,
  "nbformat_minor": 0,
  "metadata": {
    "colab": {
      "provenance": []
    },
    "kernelspec": {
      "name": "ir",
      "display_name": "R"
    },
    "language_info": {
      "name": "R"
    }
  },
  "cells": [
    {
      "cell_type": "code",
      "source": [
        "# Loading in the adult22 csv file.\n",
        "df <- read.csv(\"adult22.csv\")\n",
        "# Viewing the dimensions of df\n",
        "dim(df)"
      ],
      "metadata": {
        "colab": {
          "base_uri": "https://localhost:8080/",
          "height": 34
        },
        "id": "NUze3X1aj-QH",
        "outputId": "6e7188f7-7a39-423b-d197-a8adf3dad40a"
      },
      "execution_count": 10,
      "outputs": [
        {
          "output_type": "display_data",
          "data": {
            "text/html": [
              "<style>\n",
              ".list-inline {list-style: none; margin:0; padding: 0}\n",
              ".list-inline>li {display: inline-block}\n",
              ".list-inline>li:not(:last-child)::after {content: \"\\00b7\"; padding: 0 .5ex}\n",
              "</style>\n",
              "<ol class=list-inline><li>27651</li><li>637</li></ol>\n"
            ],
            "text/markdown": "1. 27651\n2. 637\n\n\n",
            "text/latex": "\\begin{enumerate*}\n\\item 27651\n\\item 637\n\\end{enumerate*}\n",
            "text/plain": [
              "[1] 27651   637"
            ]
          },
          "metadata": {}
        }
      ]
    },
    {
      "cell_type": "markdown",
      "source": [
        "27651 rows and 637 columns."
      ],
      "metadata": {
        "id": "QKChWvaBlwXq"
      }
    },
    {
      "cell_type": "markdown",
      "source": [
        "### Feature Selection\n",
        "\n",
        "The columns were selected based on the summary PDF available on the CDC NHIS 2022 survey documentation page (https://www.cdc.gov/nchs/nhis/documentation/2022-nhis.html)"
      ],
      "metadata": {
        "id": "FL_fC3erkkdf"
      }
    },
    {
      "cell_type": "code",
      "execution_count": 11,
      "metadata": {
        "colab": {
          "base_uri": "https://localhost:8080/",
          "height": 34
        },
        "id": "_USfk-JNfKVJ",
        "outputId": "4e1f6164-778d-42c0-d6cd-17c76fa94b28"
      },
      "outputs": [
        {
          "output_type": "display_data",
          "data": {
            "text/html": [
              "<style>\n",
              ".list-inline {list-style: none; margin:0; padding: 0}\n",
              ".list-inline>li {display: inline-block}\n",
              ".list-inline>li:not(:last-child)::after {content: \"\\00b7\"; padding: 0 .5ex}\n",
              "</style>\n",
              "<ol class=list-inline><li>27651</li><li>14</li></ol>\n"
            ],
            "text/markdown": "1. 27651\n2. 14\n\n\n",
            "text/latex": "\\begin{enumerate*}\n\\item 27651\n\\item 14\n\\end{enumerate*}\n",
            "text/plain": [
              "[1] 27651    14"
            ]
          },
          "metadata": {}
        }
      ],
      "source": [
        "# Selecting the desired columns from df, and assigning them to df_sub.\n",
        "df_sub <- df %>%\n",
        "  select(\n",
        "  AGEP_A,\n",
        "  SEX_A,\n",
        "  CANEV_A,\n",
        "  CHDEV_A,\n",
        "  DEPEV_A,\n",
        "  SMKEV_A,\n",
        "  EDUCP_A,\n",
        "  REGION,\n",
        "  ANXFREQ_A,\n",
        "  HEIGHTTC_A,\n",
        "  WEIGHTLBTC_A,\n",
        "  SLPHOURS_A,\n",
        "  PA18_05R_A,\n",
        "  DRK12MYR_A\n",
        "  )\n",
        "# Viewing the dimensions of df_sub\n",
        "dim(df_sub)"
      ]
    },
    {
      "cell_type": "markdown",
      "source": [
        "27651 rows an 14 columns."
      ],
      "metadata": {
        "id": "pA6RiuvYlzl8"
      }
    },
    {
      "cell_type": "markdown",
      "source": [
        "\n",
        "\n",
        "---\n",
        "\n"
      ],
      "metadata": {
        "id": "cIo-XgfXmMdN"
      }
    },
    {
      "cell_type": "markdown",
      "source": [
        "**Feature Meaning**\n",
        "\n",
        "The following columns are derived from the official codebook for the 2022 NHIS Sample Adult Survey (https://www.cdc.gov/nchs/nhis/documentation/2022-nhis.html). Each column's description and value mapping are based on this source:\n",
        "\n",
        "\n",
        "* **AGEP_A** → Indicates the age of the sampled adult:\n",
        "  - 18-84 corresponds to 18-84 years.\n",
        "  \n",
        "* **SEX_A** → Indicates the sex of the sampled adult:\n",
        "  - 1: Male.\n",
        "  - 2: Female.\n",
        "\n",
        "* **CANEV_A** → Indicates whether the sampled adult has been told they had cancer:\n",
        "  - 1: Yes.\n",
        "  - 2: No.\n",
        "\n",
        "* **CHDEV_A** → Indicates whether the sampled adult has been told they have coronary heart disease:\n",
        "  - 1: Yes.\n",
        "  - 2: No.\n",
        "\n",
        "* **DEPEV_A** → Indicates whether the sampled adult has had depression:\n",
        "  - 1: Yes.\n",
        "  - 2: No.\n",
        "\n",
        "* **SMKEV_A** → Indicates whether the sampled adult has smoked 100 cigarettes:\n",
        "  - 1: Yes.\n",
        "  - 2: No.\n",
        "\n",
        "* **EDUCP_A** → Indicates the education level of the sampled adult:\n",
        "  - 1: Grade 1-11.\n",
        "  - 2: 12th grade (no diploma).\n",
        "  - 3: GED or equivalent.\n",
        "  - 4: High school graduate.\n",
        "  - 5: Some college (no degree).\n",
        "  - 6: Associate’s degree (occupational, technical, or vocational program).\n",
        "  - 7: Associate’s degree (academic program).\n",
        "  - 8: Bachelor’s degree.\n",
        "  - 9: Master’s degree.\n",
        "  - 10: Professional school or doctoral degree.\n",
        "\n",
        "* **REGION** → Indicates the region where the sampled adult lives:\n",
        "  - 1: Northeast.\n",
        "  - 2: Midwest.\n",
        "  - 3: South.\n",
        "  - 4: West.\n",
        "\n",
        "* **ANXFREQ_A** → How often the sampled adult feels worried, nervous, or anxious:\n",
        "  - 1: Daily.\n",
        "  - 2: Weekly.\n",
        "  - 3: Monthly.\n",
        "  - 4: A few times a year.\n",
        "  - 5: Never.\n",
        "\n",
        "* **HEIGHTTC_A** → Height of the sampled adult without shoes (in inches):\n",
        "  - 59-76.\n",
        "\n",
        "* **WEIGHTLBTC_A** → Weight of the sampled adult without shoes (in pounds):\n",
        "  - 100-299.\n",
        "\n",
        "* **SLPHOURS_A** → Hours of sleep the sampled adult gets in a 24-hour period:\n",
        "  - 1-24.\n",
        "\n",
        "* **PA18_05R_A** → Physical activity meeting aerobic/strength criteria:\n",
        "  - 1: Meets neither.\n",
        "  - 2: Meets strength only.\n",
        "  - 3: Meets aerobic only.\n",
        "  - 4: Meets both.\n",
        "\n",
        "* **DRK12MYR_A** → Days the sampled adult drank alcohol in the past year:\n",
        "  - 0-365."
      ],
      "metadata": {
        "id": "HUXoM3SikpdO"
      }
    },
    {
      "cell_type": "code",
      "source": [
        "# Based on the above feature values, the below code selects only the the specific values for each feature wanted.\n",
        "df_filtered <- df_sub %>%\n",
        "  filter(\n",
        "    AGEP_A >= 18 & AGEP_A <= 84,\n",
        "    SEX_A %in% c(1, 2),\n",
        "    CANEV_A %in% c(1, 2),\n",
        "    CHDEV_A %in% c(1, 2),\n",
        "    DEPEV_A %in% c(1, 2),\n",
        "    SMKEV_A %in% c(1, 2),\n",
        "    EDUCP_A %in% 1:10,\n",
        "    REGION %in% 1:4,\n",
        "    ANXFREQ_A %in% 1:5,\n",
        "    HEIGHTTC_A >= 59 & HEIGHTTC_A <= 76,\n",
        "    WEIGHTLBTC_A >= 100 & WEIGHTLBTC_A <= 299,\n",
        "    SLPHOURS_A >= 1 & SLPHOURS_A <= 24,\n",
        "    PA18_05R_A %in% 1:4,\n",
        "    DRK12MYR_A >= 0 & DRK12MYR_A <= 365\n",
        "  )\n",
        "# Viewing the dimensions of df_filtered\n",
        "dim(df_filtered)\n",
        "\n",
        "# Exporting df_filtered as a csv file (adult22_filtered)\n",
        "# Setting row_names to false so there isn't an unnecessary column hopefully.\n",
        "write.csv(df_filtered, \"adult22_filtered.csv\", row.names = FALSE)"
      ],
      "metadata": {
        "colab": {
          "base_uri": "https://localhost:8080/",
          "height": 34
        },
        "id": "haZxjllukJn7",
        "outputId": "d3d31460-26e4-4181-e939-d0564a6fa3fb"
      },
      "execution_count": 13,
      "outputs": [
        {
          "output_type": "display_data",
          "data": {
            "text/html": [
              "<style>\n",
              ".list-inline {list-style: none; margin:0; padding: 0}\n",
              ".list-inline>li {display: inline-block}\n",
              ".list-inline>li:not(:last-child)::after {content: \"\\00b7\"; padding: 0 .5ex}\n",
              "</style>\n",
              "<ol class=list-inline><li>20361</li><li>14</li></ol>\n"
            ],
            "text/markdown": "1. 20361\n2. 14\n\n\n",
            "text/latex": "\\begin{enumerate*}\n\\item 20361\n\\item 14\n\\end{enumerate*}\n",
            "text/plain": [
              "[1] 20361    14"
            ]
          },
          "metadata": {}
        }
      ]
    },
    {
      "cell_type": "markdown",
      "source": [
        "203631 rows and 14 columns."
      ],
      "metadata": {
        "id": "d1sm9wt8mCdb"
      }
    }
  ]
}
